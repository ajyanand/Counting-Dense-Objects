{
  "nbformat": 4,
  "nbformat_minor": 0,
  "metadata": {
    "colab": {
      "name": "dpt.ipynb",
      "provenance": [],
      "collapsed_sections": []
    },
    "kernelspec": {
      "name": "python3",
      "display_name": "Python 3"
    },
    "language_info": {
      "name": "python"
    },
    "accelerator": "GPU"
  },
  "cells": [
    {
      "cell_type": "markdown",
      "source": [
        "# Dense Prediction Transformer for Depth Estimation\n",
        "\n",
        "The model is used to extract depth maps from the input images to get a better estimation of object positions in cluttered scenarios."
      ],
      "metadata": {
        "id": "8beHmFvXjnXy"
      }
    },
    {
      "cell_type": "code",
      "metadata": {
        "id": "iMOGQvQWF0pV",
        "colab": {
          "base_uri": "https://localhost:8080/"
        },
        "outputId": "8bc02240-88ba-4862-8214-e5c8d5d3f77a"
      },
      "source": [
        "from google.colab import drive\n",
        "from google.colab import files\n",
        "\n",
        "drive.mount('/content/drive')"
      ],
      "execution_count": null,
      "outputs": [
        {
          "output_type": "stream",
          "name": "stdout",
          "text": [
            "Mounted at /content/drive\n"
          ]
        }
      ]
    },
    {
      "cell_type": "markdown",
      "source": [
        "## Repository Setup"
      ],
      "metadata": {
        "id": "qM2lcb0z5u5b"
      }
    },
    {
      "cell_type": "code",
      "metadata": {
        "colab": {
          "base_uri": "https://localhost:8080/"
        },
        "id": "KFUV4Exot4cT",
        "outputId": "e0589cc5-6b96-414e-aed0-eaf31858bf5d"
      },
      "source": [
        "!git clone https://github.com/isl-org/DPT.git &> /dev/null\n",
        "%cd DPT/\n",
        "!pip install -r requirements.txt &> /dev/null"
      ],
      "execution_count": null,
      "outputs": [
        {
          "output_type": "stream",
          "name": "stdout",
          "text": [
            "/content/DPT\n"
          ]
        }
      ]
    },
    {
      "cell_type": "markdown",
      "source": [
        "## Download Pre-trained Models"
      ],
      "metadata": {
        "id": "KOf8FiQt5oDD"
      }
    },
    {
      "cell_type": "code",
      "metadata": {
        "id": "ohf6eEaHuTRR"
      },
      "source": [
        "!wget https://github.com/intel-isl/DPT/releases/download/1_0/dpt_hybrid-midas-501f0c75.pt -P /content/DPT/weights/\n",
        "!wget https://github.com/intel-isl/DPT/releases/download/1_0/dpt_large-midas-2f21e586.pt -P /content/DPT/weights/\n",
        "!wget https://github.com/intel-isl/DPT/releases/download/1_0/dpt_hybrid_nyu-2ce69ec7.pt -P /content/DPT/weights/"
      ],
      "execution_count": null,
      "outputs": []
    },
    {
      "cell_type": "markdown",
      "source": [
        "## Load input images into the folder 'input'"
      ],
      "metadata": {
        "id": "aOvioqZ2eOS0"
      }
    },
    {
      "cell_type": "code",
      "source": [
        "!rsync -a \"/content/drive/Shareddrives/CIS680 - Final Project Fall '21/dataset/\" '/content/DPT/input/'"
      ],
      "metadata": {
        "id": "-uf0biM_fN8V"
      },
      "execution_count": null,
      "outputs": []
    },
    {
      "cell_type": "markdown",
      "source": [
        "Check size of dataset"
      ],
      "metadata": {
        "id": "e20MTjOrj9ep"
      }
    },
    {
      "cell_type": "code",
      "source": [
        "ls \"/content/DPT/input/\" | wc -l"
      ],
      "metadata": {
        "id": "kGkRBUwehgdr",
        "colab": {
          "base_uri": "https://localhost:8080/"
        },
        "outputId": "f6c37603-3803-45b9-e5c9-7c336149668e"
      },
      "execution_count": null,
      "outputs": [
        {
          "metadata": {
            "tags": null
          },
          "name": "stdout",
          "output_type": "stream",
          "text": [
            "8101\n"
          ]
        }
      ]
    },
    {
      "cell_type": "markdown",
      "source": [
        "## Test Models"
      ],
      "metadata": {
        "id": "gpRWe-_f52CZ"
      }
    },
    {
      "cell_type": "markdown",
      "source": [
        "Each model's outputs are saved in the $output\\_monodepth$ folder. The resultant images are then zipped and downloaded."
      ],
      "metadata": {
        "id": "gdLYLkvUkC7l"
      }
    },
    {
      "cell_type": "markdown",
      "source": [
        "### DPT-Hybrid"
      ],
      "metadata": {
        "id": "0ywBOax-p2mt"
      }
    },
    {
      "cell_type": "code",
      "source": [
        "# !python run_monodepth.py -t dpt_hybrid\n",
        "# !zip -r /content/DPT/dpt_hybrid_results.zip /content/DPT/output_monodepth"
      ],
      "metadata": {
        "id": "2HpN4NGKpsjM"
      },
      "execution_count": null,
      "outputs": []
    },
    {
      "cell_type": "markdown",
      "source": [
        "### DPT-Large"
      ],
      "metadata": {
        "id": "3TYsErmo4E4O"
      }
    },
    {
      "cell_type": "code",
      "source": [
        "# !python run_monodepth.py -t dpt_large\n",
        "# !zip -r /content/DPT/dpt_large_results.zip /content/DPT/output_monodepth"
      ],
      "metadata": {
        "id": "IqWBcmvr4h8g"
      },
      "execution_count": null,
      "outputs": []
    },
    {
      "cell_type": "markdown",
      "source": [
        "### DPT-Hybrid NYU-v2 Finetuned"
      ],
      "metadata": {
        "id": "_NaBw6cC4Ouw"
      }
    },
    {
      "cell_type": "code",
      "source": [
        "# !python run_monodepth.py -t dpt_hybrid_nyu\n",
        "# !zip -r /content/DPT/dpt_hybrid_nyu_results.zip /content/DPT/output_monodepth"
      ],
      "metadata": {
        "id": "pCSRNTkm4c7B"
      },
      "execution_count": null,
      "outputs": []
    },
    {
      "cell_type": "markdown",
      "source": [
        "## Download All ZIP files"
      ],
      "metadata": {
        "id": "nEZRaKoO4yuG"
      }
    },
    {
      "cell_type": "code",
      "source": [
        "# files.download(\"/content/DPT/dpt_hybrid_results.zip\")\n",
        "# files.download(\"/content/DPT/dpt_large_results.zip\")\n",
        "# files.download(\"/content/DPT/dpt_hybrid_nyu_results.zip\")"
      ],
      "metadata": {
        "id": "syHiKpiVqYl8"
      },
      "execution_count": null,
      "outputs": []
    }
  ]
}
