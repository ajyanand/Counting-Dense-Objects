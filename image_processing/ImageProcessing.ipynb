{
  "nbformat": 4,
  "nbformat_minor": 0,
  "metadata": {
    "colab": {
      "name": "ImageProcessing.ipynb",
      "provenance": [],
      "collapsed_sections": []
    },
    "kernelspec": {
      "name": "python3",
      "display_name": "Python 3"
    },
    "language_info": {
      "name": "python"
    }
  },
  "cells": [
    {
      "cell_type": "markdown",
      "source": [
        "# Counting Machine Washer Parts in an Image using an Image Processing Pipeline"
      ],
      "metadata": {
        "id": "AIR7kqonakfT"
      }
    },
    {
      "cell_type": "code",
      "metadata": {
        "id": "iMOGQvQWF0pV"
      },
      "source": [
        "from os import path\n",
        "import cv2\n",
        "import numpy as np\n",
        "import matplotlib.pyplot as plt\n",
        "from skimage.color import rgb2hsv\n",
        "from skimage.filters import gaussian, threshold_multiotsu\n",
        "from scipy import signal\n",
        "\n",
        "if 'google.colab' in str(get_ipython()):\n",
        "  from google.colab import files\n",
        "  from google.colab.patches import cv2_imshow\n",
        "  \n",
        "  from google.colab import drive \n",
        "  drive.mount('/content/drive')"
      ],
      "execution_count": null,
      "outputs": []
    },
    {
      "cell_type": "markdown",
      "source": [
        "## Load Dataset"
      ],
      "metadata": {
        "id": "dzoF-VRkZ2s9"
      }
    },
    {
      "cell_type": "markdown",
      "source": [
        "Run the following cell if images are to be uploaded"
      ],
      "metadata": {
        "id": "ud3NlekFZ7a-"
      }
    },
    {
      "cell_type": "code",
      "metadata": {
        "id": "ZXb_WlNrSRgF"
      },
      "source": [
        "#uploaded = files.upload()"
      ],
      "execution_count": null,
      "outputs": []
    },
    {
      "cell_type": "markdown",
      "source": [
        "Run the following cell if the dataset needs to be unzipped"
      ],
      "metadata": {
        "id": "_GVJ9wS-aAUI"
      }
    },
    {
      "cell_type": "code",
      "metadata": {
        "id": "3PY3_s7wC6Yh"
      },
      "source": [
        "#if path.exists('/content/drive/Shareddrives/CIS680 - Final Project Fall\\'21/dataset') == False:\n",
        "   #os.mkdir('/content/drive/Shareddrives/CIS680 - Final Project Fall \\'21/dataset')\n",
        "#!unzip -u \"/content/drive/Shareddrives/CIS680 - Final Project Fall '21/dataset.zip\" -d \"/content/drive/Shareddrives/CIS680 - Final Project Fall '21/dataset\""
      ],
      "execution_count": null,
      "outputs": []
    },
    {
      "cell_type": "markdown",
      "source": [
        "Run the following cell to load an individual image"
      ],
      "metadata": {
        "id": "MF4GNFReay0h"
      }
    },
    {
      "cell_type": "code",
      "metadata": {
        "id": "taxfUvNp31Hw"
      },
      "source": [
        "#src = cv2.imread(\"/content/0_angle0_img.png\", cv2.IMREAD_COLOR)"
      ],
      "execution_count": null,
      "outputs": []
    },
    {
      "cell_type": "markdown",
      "metadata": {
        "id": "1YusGpIZ_sro"
      },
      "source": [
        "## 1. Convert image to HSV"
      ]
    },
    {
      "cell_type": "markdown",
      "metadata": {
        "id": "N6HpuS5pAOFl"
      },
      "source": [
        "To isolate the Saturation channel"
      ]
    },
    {
      "cell_type": "code",
      "metadata": {
        "id": "CPWguceW-Hbl"
      },
      "source": [
        "def image_to_HSV(src, show = False , select_source = 2):\n",
        "  '''\n",
        "  Input:\n",
        "    src:            Source Image\n",
        "    show:           If set to True, displays converted image\n",
        "    select_source:  1 for Hue channel, 2 for Saturation channel, 3 for Value channel\n",
        "  \n",
        "  Returns:\n",
        "    source:         Selected channel of Image\n",
        "  '''\n",
        "    src_hsv = cv2.cvtColor(src, cv2.COLOR_RGB2HSV)\n",
        "    h, s, v = cv2.split(src_hsv)\n",
        "\n",
        "    # Plot different Channels of HSV\n",
        "    if show == True:\n",
        "        fig, (ax0, ax1, ax2, ax3) = plt.subplots(ncols=4, figsize=(8, 2), dpi=190)\n",
        "        ax0.imshow(cv2.cvtColor(src, cv2.COLOR_BGR2RGB))\n",
        "        ax0.set_title(\"RGB image\")\n",
        "        ax0.axis('off')\n",
        "        ax1.imshow(h, cmap='hsv')\n",
        "        ax1.set_title(\"Hue channel\")\n",
        "        ax1.axis('off')\n",
        "        ax2.imshow(s)\n",
        "        ax2.set_title(\"Saturation channel\")\n",
        "        ax2.axis('off')\n",
        "        ax3.imshow(v)\n",
        "        ax3.set_title(\"Value channel\")\n",
        "        ax3.axis('off')\n",
        "        fig.tight_layout()\n",
        "    if select_source==1:\n",
        "        source = h\n",
        "    elif select_source==2:\n",
        "        source = s\n",
        "    elif select_source==3:\n",
        "        source = v      \n",
        "    # cv2_imshow(s)\n",
        "    return source"
      ],
      "execution_count": null,
      "outputs": []
    },
    {
      "cell_type": "markdown",
      "metadata": {
        "id": "VPCTOr6x-3-P"
      },
      "source": [
        "## 2. Gaussian Filter"
      ]
    },
    {
      "cell_type": "markdown",
      "metadata": {
        "id": "Sqny7gY1ARCn"
      },
      "source": [
        "To remove noise from the image"
      ]
    },
    {
      "cell_type": "code",
      "metadata": {
        "id": "iER-ZGEs85ED"
      },
      "source": [
        "def Gaussian(source, show = False):\n",
        "  '''\n",
        "  Input:\n",
        "    source:         Source image\n",
        "    show:           If True, display Gaussian filtered image\n",
        "  \n",
        "  Returns:\n",
        "    filtered_image: Gaussian filtered image\n",
        "  '''\n",
        "    filtered_image = cv2.GaussianBlur(source, (3,3),0,0)\n",
        "    if show == True:\n",
        "        fig, ax = plt.subplots(dpi=190)\n",
        "        ax.imshow(filtered_image)\n",
        "        ax.set_title(\"Gaussian Filtered Image\")\n",
        "        ax.axis('off')\n",
        "        fig.tight_layout()\n",
        "    # cv2_imshow(filtered_image)\n",
        "    return filtered_image"
      ],
      "execution_count": null,
      "outputs": []
    },
    {
      "cell_type": "markdown",
      "metadata": {
        "id": "AWgiQFPt_wuB"
      },
      "source": [
        "## 3. Otsu Thresholding"
      ]
    },
    {
      "cell_type": "markdown",
      "source": [
        "Perform 2-level Otsu thresholding"
      ],
      "metadata": {
        "id": "W9gosk4hcSsN"
      }
    },
    {
      "cell_type": "code",
      "metadata": {
        "id": "kfU9ILsA-i7r"
      },
      "source": [
        "def Otsu(source, show = False):\n",
        "  '''\n",
        "  Input:\n",
        "    source:             Source image\n",
        "    show:               If True, display Otsu thresholded image\n",
        "  \n",
        "  Returns:\n",
        "    thresholded_image:  Otsu thresholded image\n",
        "  '''\n",
        "    ret2, thresholded_image = cv2.threshold(source, 0,250, cv2.THRESH_BINARY+cv2.THRESH_OTSU)\n",
        "    if show == True:\n",
        "        fig, ax = plt.subplots(dpi=190)\n",
        "        ax.imshow(thresholded_image)\n",
        "        ax.set_title(\"Otsu Thresholded Image\")\n",
        "        ax.axis('off')\n",
        "        fig.tight_layout()    \n",
        "    # cv2_imshow(thresholded_image)\n",
        "    return thresholded_image  "
      ],
      "execution_count": null,
      "outputs": []
    },
    {
      "cell_type": "markdown",
      "metadata": {
        "id": "uPK-XQ6A_zpC"
      },
      "source": [
        "## 4. Sobel Edge Detection"
      ]
    },
    {
      "cell_type": "markdown",
      "source": [
        "Generate an edge map for the input image"
      ],
      "metadata": {
        "id": "oC3vsqaqcW7-"
      }
    },
    {
      "cell_type": "code",
      "metadata": {
        "id": "yiNBW4sP_IxV"
      },
      "source": [
        "def Sobel(source, show = False):\n",
        "  '''\n",
        "  Input:\n",
        "    source:             Source image\n",
        "    show:               If True, display Sobel filtered image\n",
        "  \n",
        "  Returns:\n",
        "    sobel_out:  Edge map of source image\n",
        "  ''' \n",
        "    sobel_8u = cv2.Sobel(source, cv2.CV_64F, 0, 1, ksize=1)\n",
        "    sobel_out = np.uint8(np.absolute(sobel_8u))\n",
        "    if show == True:\n",
        "        fig, ax = plt.subplots(dpi=190)\n",
        "        ax.imshow(sobel_out)\n",
        "        ax.set_title(\"Sobel Edge Detection\")\n",
        "        ax.axis('off')\n",
        "        fig.tight_layout()\n",
        "    # cv2_imshow(sobel_out)\n",
        "    return sobel_out"
      ],
      "execution_count": null,
      "outputs": []
    },
    {
      "cell_type": "markdown",
      "metadata": {
        "id": "K15Y9_tn_gjt"
      },
      "source": [
        "## 5. Hough Transform"
      ]
    },
    {
      "cell_type": "markdown",
      "source": [
        "Applies a Hough Circle Transform to the generated edge map of the source image"
      ],
      "metadata": {
        "id": "EE2D6ffoc1Ng"
      }
    },
    {
      "cell_type": "markdown",
      "metadata": {
        "id": "_1dKHO-1_jMb"
      },
      "source": [
        "NOTE: HoughCircles only takes in CV_8U format images\n",
        "\n",
        "Inputting MaxRadius Values of <0 returns the centers without finding the respective radii"
      ]
    },
    {
      "cell_type": "code",
      "metadata": {
        "id": "uXC-f2sM_Ydo"
      },
      "source": [
        "def Circles(source, param1 = 100, param2 = 7, minRadius = 15, maxRadius = 25, show = False):\n",
        "  '''\n",
        "  Input:\n",
        "    source:         Source image\n",
        "    param1, param2: Parameters for Hough Circles\n",
        "    minRadius:      Minimum radius of generated circles\n",
        "    maxRadius:      Maximum radius of generated circles\n",
        "    show:           If True, display image with generated circles\n",
        "  \n",
        "  Returns:\n",
        "    Number of detected circles\n",
        "  '''\n",
        "#To detect outer circles: minRadius=15, maxRadius = 25, param2 = 6\n",
        "#To detect inner circles: minRadius=5, maxRadius = 15, param2 = 6\n",
        "\n",
        "    circles = cv2.HoughCircles(source, \n",
        "                              cv2.HOUGH_GRADIENT,\n",
        "                              1,\n",
        "                              20,\n",
        "                              param1,\n",
        "                              param2,\n",
        "                              minRadius,\n",
        "                              maxRadius)\n",
        "    \n",
        "    circles = np.uint16(np.around(circles[0]))\n",
        "    #print(circles)\n",
        "    if show == True:\n",
        "        output = source.copy()\n",
        "        # loop over the (x, y) coordinates and radius of the circles\n",
        "        i = 1\n",
        "        for (x, y, r) in circles:\n",
        "          # draw the circle in the output image, then draw a rectangle\n",
        "          # corresponding to the center of the circle\n",
        "          cv2.circle(output, (x, y), r, (0, 255, 0), 4)\n",
        "        # show the output image\n",
        "        cv2_imshow(np.hstack([src, output]))\n",
        "        cv2.waitKey(0)\n",
        "    return len(circles)    "
      ],
      "execution_count": null,
      "outputs": []
    },
    {
      "cell_type": "markdown",
      "source": [
        "# Full Pipeline"
      ],
      "metadata": {
        "id": "n4tS0ZAveCPe"
      }
    },
    {
      "cell_type": "markdown",
      "metadata": {
        "id": "cblr1VTp1P7M"
      },
      "source": [
        "## Obtaining Ground Truth Annotations \n"
      ]
    },
    {
      "cell_type": "markdown",
      "source": [
        "Parsing the JSON file to get object count for each image"
      ],
      "metadata": {
        "id": "00D4DE3BetJ8"
      }
    },
    {
      "cell_type": "code",
      "metadata": {
        "id": "2Zz1-cm6c6em",
        "colab": {
          "base_uri": "https://localhost:8080/",
          "height": 53
        },
        "outputId": "868b9d2e-e85a-423f-ecaa-23bd615186a9"
      },
      "source": [
        "#Function to get number of objects in the image\n",
        "'''\n",
        "def get_label(_id):\n",
        "    annos = [s for s in imgs_anns[\"annotations\"] if s[\"image_id\"] == _id]\n",
        "    return len(annos)\n",
        "json_file = os.path.join(\"dataset\", \"annotations.json\")\n",
        "with open(json_file) as f:\n",
        "  imgs_anns = json.load(f)\n",
        "''' "
      ],
      "execution_count": null,
      "outputs": [
        {
          "output_type": "execute_result",
          "data": {
            "application/vnd.google.colaboratory.intrinsic+json": {
              "type": "string"
            },
            "text/plain": [
              "'\\ndef get_label(_id):\\n    annos = [s for s in imgs_anns[\"annotations\"] if s[\"image_id\"] == _id]\\n    return len(annos)\\njson_file = os.path.join(\"dataset\", \"annotations.json\")\\nwith open(json_file) as f:\\n  imgs_anns = json.load(f)\\n'"
            ]
          },
          "metadata": {},
          "execution_count": 48
        }
      ]
    },
    {
      "cell_type": "markdown",
      "source": [
        "## Main function to run the whole pipeline"
      ],
      "metadata": {
        "id": "1BU3ay4leNgU"
      }
    },
    {
      "cell_type": "code",
      "metadata": {
        "id": "dj1mTXFA1aeY"
      },
      "source": [
        "def get_count(img, show = False):\n",
        "  '''\n",
        "  Inputs:\n",
        "    img:    Source Image\n",
        "    show:   If True, display processed images during intermediary steps\n",
        "\n",
        "  Returns:\n",
        "    count:  Count of circles detected in image\n",
        "  '''\n",
        "    img = image_to_HSV(img, show)\n",
        "    img = Gaussian(img, show)\n",
        "    img = Otsu(img, show)\n",
        "    #cv2.imwrite(\"/content/drive/Shareddrives/CIS680 - Final Project Fall '21/OtsuBinaryImages/402_angle5_img.png\", img)\n",
        "    img = Sobel(img, show)\n",
        "    count = Circles(img, show)\n",
        "    return count"
      ],
      "execution_count": null,
      "outputs": []
    },
    {
      "cell_type": "markdown",
      "source": [
        "## Evaluation Metrics"
      ],
      "metadata": {
        "id": "mZbU780TepqA"
      }
    },
    {
      "cell_type": "markdown",
      "source": [
        "Algorithm results evaluated on Root Mean Squared Error (RMSE) & Mean Absolute Error (MAE)"
      ],
      "metadata": {
        "id": "a97TDYvMe0Of"
      }
    },
    {
      "cell_type": "code",
      "metadata": {
        "id": "Z-_3Mc3e-euF"
      },
      "source": [
        "from sklearn.metrics import mean_absolute_error, mean_squared_error\n",
        "\n",
        "pred_counts = []\n",
        "gt_counts = []\n",
        "\n",
        "for i in range (len(paths)):\n",
        "    img = cv2.imread(image_name, cv2.BGR2RGB)\n",
        "    pred_counts.append(getCount(img))\n",
        "    gt_count.append(get_label(img_id))\n",
        "\n",
        "pred_counts = np.array(pred_counts)\n",
        "gt_counts = np.array(gt_counts)\n",
        "\n",
        "rmse = sqrt(mean_squared_error(pred_counts, gt_counts))\n",
        "mae = mean_absolute_error(pred_counts, gt_counts)\n",
        "\n",
        "print('\\n Root Mean Squared Error on Data: {}'.format(rmse))\n",
        "print('\\n Mean Absolute Error on Data: {}'.format(mae))"
      ],
      "execution_count": null,
      "outputs": []
    }
  ]
}